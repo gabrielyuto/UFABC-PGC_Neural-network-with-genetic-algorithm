{
 "cells": [
  {
   "cell_type": "markdown",
   "metadata": {},
   "source": [
    "# Rede neural nao supervisionada"
   ]
  },
  {
   "cell_type": "code",
   "execution_count": 3,
   "metadata": {},
   "outputs": [],
   "source": [
    "import numpy as np\n",
    "import matplotlib.pyplot as plt\n",
    "import pdb"
   ]
  },
  {
   "cell_type": "markdown",
   "metadata": {},
   "source": [
    "## Método para geração de pesos e máscara"
   ]
  },
  {
   "cell_type": "code",
   "execution_count": 4,
   "metadata": {},
   "outputs": [],
   "source": [
    "def gennet_inh_lat(input_neuron, compet_neuron):\n",
    "    m11 = np.zeros((input_neuron, input_neuron))\n",
    "    m12 = np.zeros((input_neuron, compet_neuron))\n",
    "\n",
    "    m21 = 0.1 * np.ones((compet_neuron, input_neuron)) + 0.1 * np.random.rand(compet_neuron, input_neuron)\n",
    "\n",
    "    m22 = -(0.8 * (np.ones((compet_neuron, compet_neuron)) - np.eye(compet_neuron))) + 0.6 * np.eye(compet_neuron) #Esta última linha sustitui  anterior acrescentando autapses\n",
    "\n",
    "    w = np.block([[m11, m12], [m21, m22]])\n",
    "    m22 = np.zeros_like(m22)\n",
    "    w1 = np.block([[m11, m12], [m21, m22]])\n",
    "    mask = w1 > np.zeros_like(w1)\n",
    "\n",
    "    return w, mask"
   ]
  },
  {
   "cell_type": "code",
   "execution_count": 5,
   "metadata": {},
   "outputs": [],
   "source": [
    "def imprimir_matriz_como_tabela(matriz):\n",
    "    for linha in matriz:\n",
    "        for elemento in linha:\n",
    "            print(\"{:.2f}\".format(elemento), end=\"\\t\")\n",
    "        print()"
   ]
  },
  {
   "cell_type": "markdown",
   "metadata": {},
   "source": [
    "## Parâmetros"
   ]
  },
  {
   "cell_type": "code",
   "execution_count": 6,
   "metadata": {},
   "outputs": [],
   "source": [
    "# Gera matriz de pesos\n",
    "w, mascara = gennet_inh_lat(5,3)\n",
    "\n",
    "# Numero de neuronios (numero de linhas da matriz w)\n",
    "n_neuronios = w.shape[0]\n",
    "\n",
    "# Deslocamento da sigmoide para Inet direita\n",
    "shift = 0.5 * np.ones((n_neuronios, 1))\n",
    "\n",
    "# Fator de aprendizado\n",
    "fator_aprendizado = 0.001\n",
    "\n",
    "# Velocidade de deslocamento da sigmóide\n",
    "velocidade_deslocamento = 0.025\n",
    "\n",
    "# Número de vezes em que são apresentados todos os padrões\n",
    "epocas = 1000\n",
    "\n",
    "#Incremento no peso sináptico\n",
    "incw = np.zeros_like(w)\n",
    "\n",
    "# Saída da rede\n",
    "output_antes = np.zeros((n_neuronios, 1))\n",
    "\n",
    "# Saída da rede no instante anterior\n",
    "output = output_antes.copy()\n",
    "\n",
    "# Matriz com os padrões para o aprendizado\n",
    "# Na ordem: A,B,A,C,A\n",
    "P = np.array([[0.1, 0.2, 0.0, 0.0, 0.7],\n",
    "              [0.0, 0.0, 0.4, 0.6, 0.8],\n",
    "              [0.3, 0.1, 0.0, 0.0, 0.6],\n",
    "              [0.8, 0.2, 0.0, 0.0, 0.0],\n",
    "              [0.2, 0.1, 0.0, 0.0, 0.7]]).T\n",
    "\n",
    "# Inet matriz é transposta, n_linhas = n_padroes, n_colunas = comp_padroes\n",
    "\n",
    "# Número de padrões de entrada / Comprimento dos padrões de entrada\n",
    "n_entradas, padroes = P.shape\n",
    "\n",
    "# Numero de camadas da rede\n",
    "camadas = 1\n",
    "\n",
    "# Numero de interações que ocorreram\n",
    "inter_totais = 0"
   ]
  },
  {
   "cell_type": "code",
   "execution_count": 7,
   "metadata": {},
   "outputs": [
    {
     "name": "stdout",
     "output_type": "stream",
     "text": [
      "0.00\t0.00\t0.00\t0.00\t0.00\t0.00\t0.00\t0.00\t\n",
      "0.00\t0.00\t0.00\t0.00\t0.00\t0.00\t0.00\t0.00\t\n",
      "0.00\t0.00\t0.00\t0.00\t0.00\t0.00\t0.00\t0.00\t\n",
      "0.00\t0.00\t0.00\t0.00\t0.00\t0.00\t0.00\t0.00\t\n",
      "0.00\t0.00\t0.00\t0.00\t0.00\t0.00\t0.00\t0.00\t\n",
      "0.11\t0.20\t0.18\t0.11\t0.16\t0.60\t-0.80\t-0.80\t\n",
      "0.10\t0.20\t0.19\t0.17\t0.11\t-0.80\t0.60\t-0.80\t\n",
      "0.18\t0.17\t0.15\t0.17\t0.12\t-0.80\t-0.80\t0.60\t\n"
     ]
    }
   ],
   "source": [
    "imprimir_matriz_como_tabela(w)"
   ]
  },
  {
   "cell_type": "code",
   "execution_count": 8,
   "metadata": {},
   "outputs": [],
   "source": [
    "def funcao_ativacao(ativacao, shift):\n",
    "  return 1 / (1 + np.exp(-70 * (ativacao - shift)))"
   ]
  },
  {
   "cell_type": "markdown",
   "metadata": {},
   "source": [
    "## Main"
   ]
  },
  {
   "cell_type": "code",
   "execution_count": 9,
   "metadata": {},
   "outputs": [
    {
     "data": {
      "text/plain": [
       "array([[1.00000000e-01, 2.00000000e-01, 0.00000000e+00, ...,\n",
       "        0.00000000e+00, 9.99998871e-01, 0.00000000e+00],\n",
       "       [0.00000000e+00, 0.00000000e+00, 4.00000000e-01, ...,\n",
       "        0.00000000e+00, 0.00000000e+00, 0.00000000e+00],\n",
       "       [3.00000000e-01, 1.00000000e-01, 0.00000000e+00, ...,\n",
       "        1.60220897e-02, 6.34644415e-05, 2.96426023e-02],\n",
       "       ...,\n",
       "       [0.00000000e+00, 0.00000000e+00, 0.00000000e+00, ...,\n",
       "        0.00000000e+00, 0.00000000e+00, 0.00000000e+00],\n",
       "       [0.00000000e+00, 0.00000000e+00, 0.00000000e+00, ...,\n",
       "        0.00000000e+00, 0.00000000e+00, 0.00000000e+00],\n",
       "       [0.00000000e+00, 0.00000000e+00, 0.00000000e+00, ...,\n",
       "        0.00000000e+00, 0.00000000e+00, 0.00000000e+00]])"
      ]
     },
     "execution_count": 9,
     "metadata": {},
     "output_type": "execute_result"
    }
   ],
   "source": [
    "output_graf = np.zeros((epocas - padroes, n_neuronios))\n",
    "\n",
    "for i in range(epocas):\n",
    "    for j in range(padroes):\n",
    "      output = np.zeros((n_neuronios, 1))\n",
    "      output_antes = output\n",
    "\n",
    "      PAT = P[:, j]\n",
    "      output[0:n_entradas, 0] = PAT\n",
    "\n",
    "      for k in range(camadas + 1):\n",
    "        w = w + incw\n",
    "        Inet = np.dot(w, output)\n",
    "\n",
    "        output = funcao_ativacao(Inet, shift)\n",
    "\n",
    "        output = (Inet > 0.0) * output\n",
    "        output[0:n_entradas, 0] = PAT\n",
    "\n",
    "        incw = (fator_aprendizado * (np.dot(output, output_antes.T) - ((1 + 0.05) * np.ones_like(output) * output_antes.T) * w)) * mascara\n",
    "        shift = (velocidade_deslocamento * output + shift) / (1 + velocidade_deslocamento)\n",
    "        output_antes = output\n",
    "\n",
    "      if i >= (epocas - padroes):\n",
    "        output_graf[inter_totais, :] = output.T\n",
    "        inter_totais += 1\n",
    "\n",
    "# pdb.set_trace()\n",
    "output_graf\n",
    "\n",
    "# r = np.arange(1, padroes + 1)\n",
    "\n",
    "# fig = plt.figure()\n",
    "# ax = fig.add_subplot(111, projection='3d')\n",
    "\n",
    "# ax.plot_surface(r, np.arange(n_neuronios), output_graf.T, cmap='viridis')\n",
    "# ax.view_init(100, 80)\n",
    "# plt.show()"
   ]
  },
  {
   "cell_type": "code",
   "execution_count": null,
   "metadata": {},
   "outputs": [],
   "source": []
  }
 ],
 "metadata": {
  "kernelspec": {
   "display_name": "venv",
   "language": "python",
   "name": "python3"
  },
  "language_info": {
   "codemirror_mode": {
    "name": "ipython",
    "version": 3
   },
   "file_extension": ".py",
   "mimetype": "text/x-python",
   "name": "python",
   "nbconvert_exporter": "python",
   "pygments_lexer": "ipython3",
   "version": "3.12.0"
  }
 },
 "nbformat": 4,
 "nbformat_minor": 2
}
